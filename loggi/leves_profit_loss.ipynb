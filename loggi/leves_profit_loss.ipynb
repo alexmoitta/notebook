{
 "cells": [
  {
   "cell_type": "code",
   "execution_count": 1,
   "metadata": {},
   "outputs": [],
   "source": [
    "# Pandas for managing datasets\n",
    "import pandas as pd\n"
   ]
  },
  {
   "cell_type": "code",
   "execution_count": 2,
   "metadata": {},
   "outputs": [],
   "source": [
    "# Matplotlib for additional customization\n",
    "from matplotlib import pyplot as plt\n",
    "%matplotlib inline"
   ]
  },
  {
   "cell_type": "code",
   "execution_count": 3,
   "metadata": {},
   "outputs": [],
   "source": [
    "# Seaborn for plotting and styling\n",
    "import seaborn as sns"
   ]
  },
  {
   "cell_type": "code",
   "execution_count": 5,
   "metadata": {},
   "outputs": [
    {
     "data": {
      "image/png": "[encoded data removed]",
      "text/plain": [
       "<Figure size 432x288 with 1 Axes>"
      ]
     },
     "metadata": {
      "needs_background": "light"
     },
     "output_type": "display_data"
    }
   ],
   "source": [
    "#this example comes from https://www.journaldev.com/39342/seaborn-line-plot\n",
    "Year = [2012, 2014, 2016, 2020, 2021, 2022, 2018]\n",
    "Profit = [80, 75.8, 74, 65, 99.5, 19, 33.6]\n",
    " \n",
    "data_plot = pd.DataFrame({\"Year\":Year, \"Profit\":Profit})\n",
    " \n",
    "sns.lineplot(x = \"Year\", y = \"Profit\", data=data_plot)\n",
    "plt.show()"
   ]
  },
  {
   "cell_type": "code",
   "execution_count": 150,
   "metadata": {},
   "outputs": [],
   "source": [
    "#farther cities amount of packages ranges\n",
    "ranges = [(1,5),(6,25),(26,50),(51,75),(76,100)]\n"
   ]
  },
  {
   "cell_type": "code",
   "execution_count": 151,
   "metadata": {},
   "outputs": [],
   "source": [
    "leve_receiving_values = [10,3,1,0.40,0.20]\n",
    "base_value = 0.20"
   ]
  },
  {
   "cell_type": "code",
   "execution_count": 152,
   "metadata": {},
   "outputs": [],
   "source": [
    "gain_list = [None] * 101\n",
    "assert(len(ranges)==len(leve_receiving_values))\n"
   ]
  },
  {
   "cell_type": "code",
   "execution_count": 153,
   "metadata": {},
   "outputs": [],
   "source": [
    "def gain_calculator(number_packages):\n",
    "    receiving_index = 0\n",
    "    for i in ranges:\n",
    "        #print(i[0],i[1])\n",
    "        #print(receiving_index)\n",
    "        if i[0] <= number_packages <= i[1]:\n",
    "            if leve_receiving_values[receiving_index] > base_value:\n",
    "                return leve_receiving_values[receiving_index]\n",
    "            else:\n",
    "                return base_value\n",
    "                \n",
    "        else: \n",
    "            receiving_index = receiving_index+1\n",
    "    return 0        "
   ]
  },
  {
   "cell_type": "code",
   "execution_count": 154,
   "metadata": {},
   "outputs": [
    {
     "name": "stdout",
     "output_type": "stream",
     "text": [
      "10\n",
      "3\n",
      "1\n",
      "0.4\n",
      "0.2\n",
      "0\n"
     ]
    }
   ],
   "source": [
    "#tests\n",
    "print(gain_calculator(3))\n",
    "print(gain_calculator(6))\n",
    "print(gain_calculator(27))\n",
    "print(gain_calculator(55))\n",
    "print(gain_calculator(78))\n",
    "print(gain_calculator(200))\n"
   ]
  },
  {
   "cell_type": "code",
   "execution_count": 155,
   "metadata": {},
   "outputs": [],
   "source": [
    "x_list = range(1,101)\n",
    "gain_list = [gain_calculator(x)*x for x in x_list]\n"
   ]
  },
  {
   "cell_type": "code",
   "execution_count": 156,
   "metadata": {},
   "outputs": [
    {
     "name": "stdout",
     "output_type": "stream",
     "text": [
      "[10, 20, 30, 40, 50, 18, 21, 24, 27, 30, 33, 36, 39, 42, 45, 48, 51, 54, 57, 60, 63, 66, 69, 72, 75, 26, 27, 28, 29, 30, 31, 32, 33, 34, 35, 36, 37, 38, 39, 40, 41, 42, 43, 44, 45, 46, 47, 48, 49, 50, 20.400000000000002, 20.8, 21.200000000000003, 21.6, 22.0, 22.400000000000002, 22.8, 23.200000000000003, 23.6, 24.0, 24.400000000000002, 24.8, 25.200000000000003, 25.6, 26.0, 26.400000000000002, 26.8, 27.200000000000003, 27.6, 28.0, 28.400000000000002, 28.8, 29.200000000000003, 29.6, 30.0, 15.200000000000001, 15.4, 15.600000000000001, 15.8, 16.0, 16.2, 16.400000000000002, 16.6, 16.8, 17.0, 17.2, 17.400000000000002, 17.6, 17.8, 18.0, 18.2, 18.400000000000002, 18.6, 18.8, 19.0, 19.200000000000003, 19.400000000000002, 19.6, 19.8, 20.0]\n"
     ]
    }
   ],
   "source": [
    "print(gain_list)"
   ]
  },
  {
   "cell_type": "code",
   "execution_count": 157,
   "metadata": {},
   "outputs": [
    {
     "data": {
      "image/png": "[encoded data removed]",
      "text/plain": [
       "<Figure size 432x288 with 1 Axes>"
      ]
     },
     "metadata": {
      "needs_background": "light"
     },
     "output_type": "display_data"
    }
   ],
   "source": [
    "data_plot = pd.DataFrame({\"qt_packages\":x_list, \"gain\":gain_list})\n",
    "sns.lineplot(x = \"qt_packages\", y = \"gain\", data=data_plot)\n",
    "plt.show()\n",
    "                          "
   ]
  },
  {
   "cell_type": "code",
   "execution_count": 158,
   "metadata": {},
   "outputs": [],
   "source": [
    "#regular delivery value ranges \n",
    "ranges = [(1,99),(100,10000)]\n",
    "leve_receiving_values = [4.6,4.3]\n",
    "base_value = 4.3\n",
    "assert(len(ranges)==len(leve_receiving_values))\n"
   ]
  },
  {
   "cell_type": "code",
   "execution_count": 159,
   "metadata": {},
   "outputs": [
    {
     "name": "stdout",
     "output_type": "stream",
     "text": [
      "4.6\n",
      "4.6\n",
      "4.6\n",
      "4.6\n",
      "4.6\n",
      "4.3\n"
     ]
    }
   ],
   "source": [
    "#tests\n",
    "print(gain_calculator(3))\n",
    "print(gain_calculator(6))\n",
    "print(gain_calculator(27))\n",
    "print(gain_calculator(55))\n",
    "print(gain_calculator(78))\n",
    "print(gain_calculator(200))\n"
   ]
  },
  {
   "cell_type": "code",
   "execution_count": 160,
   "metadata": {},
   "outputs": [],
   "source": [
    "regular_gain_list = [gain_calculator(x)*x for x in x_list]"
   ]
  },
  {
   "cell_type": "code",
   "execution_count": 161,
   "metadata": {},
   "outputs": [
    {
     "name": "stdout",
     "output_type": "stream",
     "text": [
      "[4.6, 9.2, 13.799999999999999, 18.4, 23.0, 27.599999999999998, 32.199999999999996, 36.8, 41.4, 46.0, 50.599999999999994, 55.199999999999996, 59.8, 64.39999999999999, 69.0, 73.6, 78.19999999999999, 82.8, 87.39999999999999, 92.0, 96.6, 101.19999999999999, 105.8, 110.39999999999999, 114.99999999999999, 119.6, 124.19999999999999, 128.79999999999998, 133.39999999999998, 138.0, 142.6, 147.2, 151.79999999999998, 156.39999999999998, 161.0, 165.6, 170.2, 174.79999999999998, 179.39999999999998, 184.0, 188.6, 193.2, 197.79999999999998, 202.39999999999998, 206.99999999999997, 211.6, 216.2, 220.79999999999998, 225.39999999999998, 229.99999999999997, 234.6, 239.2, 243.79999999999998, 248.39999999999998, 252.99999999999997, 257.59999999999997, 262.2, 266.79999999999995, 271.4, 276.0, 280.59999999999997, 285.2, 289.79999999999995, 294.4, 299.0, 303.59999999999997, 308.2, 312.79999999999995, 317.4, 322.0, 326.59999999999997, 331.2, 335.79999999999995, 340.4, 345.0, 349.59999999999997, 354.2, 358.79999999999995, 363.4, 368.0, 372.59999999999997, 377.2, 381.79999999999995, 386.4, 390.99999999999994, 395.59999999999997, 400.2, 404.79999999999995, 409.4, 413.99999999999994, 418.59999999999997, 423.2, 427.79999999999995, 432.4, 436.99999999999994, 441.59999999999997, 446.2, 450.79999999999995, 455.4, 430.0]\n"
     ]
    }
   ],
   "source": [
    "print(regular_gain_list)"
   ]
  },
  {
   "cell_type": "code",
   "execution_count": 162,
   "metadata": {},
   "outputs": [
    {
     "name": "stdout",
     "output_type": "stream",
     "text": [
      "100\n",
      "100\n",
      "4300.0\n",
      "range(1, 101)\n"
     ]
    }
   ],
   "source": [
    "print(len(regular_gain_list))\n",
    "print(len(gain_list))\n",
    "print(gain_calculator(1000)*1000)\n",
    "print(x_list)"
   ]
  },
  {
   "cell_type": "code",
   "execution_count": 184,
   "metadata": {},
   "outputs": [
    {
     "name": "stdout",
     "output_type": "stream",
     "text": [
      "[14.6, 29.2, 43.8, 58.4, 73.0, 45.599999999999994, 53.199999999999996, 60.8, 68.4, 76.0, 83.6, 91.19999999999999, 98.8, 106.39999999999999, 114.0, 121.6, 129.2, 136.8, 144.39999999999998, 152.0, 159.6, 167.2, 174.8, 182.39999999999998, 190.0, 145.6, 151.2, 156.79999999999998, 162.39999999999998, 168.0, 173.6, 179.2, 184.79999999999998, 190.39999999999998, 196.0, 201.6, 207.2, 212.79999999999998, 218.39999999999998, 224.0, 229.6, 235.2, 240.79999999999998, 246.39999999999998, 251.99999999999997, 257.6, 263.2, 268.79999999999995, 274.4, 280.0, 255.0, 260.0, 265.0, 270.0, 275.0, 279.99999999999994, 285.0, 289.99999999999994, 295.0, 300.0, 304.99999999999994, 310.0, 314.99999999999994, 320.0, 325.0, 329.99999999999994, 335.0, 339.99999999999994, 345.0, 350.0, 354.99999999999994, 360.0, 364.99999999999994, 370.0, 375.0, 364.79999999999995, 369.59999999999997, 374.4, 379.2, 384.0, 388.79999999999995, 393.59999999999997, 398.4, 403.2, 407.99999999999994, 412.79999999999995, 417.59999999999997, 422.4, 427.2, 431.99999999999994, 436.79999999999995, 441.59999999999997, 446.4, 451.2, 455.99999999999994, 460.79999999999995, 465.59999999999997, 470.4, 475.2, 450.0]\n"
     ]
    }
   ],
   "source": [
    "x_list = range(0,100)\n",
    "total_gain_list = [regular_gain_list[x]+gain_list[x] for x in x_list]\n",
    "print(total_gain_list)"
   ]
  },
  {
   "cell_type": "code",
   "execution_count": 185,
   "metadata": {},
   "outputs": [],
   "source": [
    "#print(len(regular_gain_list))\n",
    "#print(len(gain_list))\n",
    "#total_gain_list = [None] * 101\n",
    "#print(regular_gain_list[1])\n",
    "#x_list = range(0,100)\n",
    "#for x in x_list:\n",
    "#    total_gain_list[x] = regular_gain_list[x] + gain_list[x]"
   ]
  },
  {
   "cell_type": "code",
   "execution_count": 188,
   "metadata": {},
   "outputs": [
    {
     "name": "stdout",
     "output_type": "stream",
     "text": [
      "100\n",
      "10 4.6 14.6\n",
      "33 50.599999999999994 83.6\n",
      "20.0 430.0 450.0\n"
     ]
    }
   ],
   "source": [
    "#tests\n",
    "print(len(total_gain_list))\n",
    "print(gain_list[0],regular_gain_list[0],total_gain_list[0])\n",
    "print(gain_list[10],regular_gain_list[10],total_gain_list[10])\n",
    "print(gain_list[99],regular_gain_list[99],total_gain_list[99])\n"
   ]
  },
  {
   "cell_type": "code",
   "execution_count": 189,
   "metadata": {},
   "outputs": [
    {
     "data": {
      "image/png": "[encoded data removed]",
      "text/plain": [
       "<Figure size 432x288 with 1 Axes>"
      ]
     },
     "metadata": {
      "needs_background": "light"
     },
     "output_type": "display_data"
    }
   ],
   "source": [
    "x_list = range(1,101)\n",
    "data_plot = pd.DataFrame({\"qt_packages\":x_list, \"total_gain\":total_gain_list})\n",
    "sns.lineplot(x = \"qt_packages\", y = \"total_gain\", data=data_plot)\n",
    "plt.show()"
   ]
  },
  {
   "cell_type": "code",
   "execution_count": null,
   "metadata": {},
   "outputs": [],
   "source": []
  }
 ],
 "metadata": {
  "kernelspec": {
   "display_name": "Python 3",
   "language": "python",
   "name": "python3"
  },
  "language_info": {
   "codemirror_mode": {
    "name": "ipython",
    "version": 3
   },
   "file_extension": ".py",
   "mimetype": "text/x-python",
   "name": "python",
   "nbconvert_exporter": "python",
   "pygments_lexer": "ipython3",
   "version": "3.8.0"
  }
 },
 "nbformat": 4,
 "nbformat_minor": 2
}
