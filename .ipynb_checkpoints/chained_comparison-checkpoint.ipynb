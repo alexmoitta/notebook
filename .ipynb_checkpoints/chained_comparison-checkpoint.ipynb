{
 "cells": [
  {
   "cell_type": "code",
   "execution_count": 1,
   "metadata": {},
   "outputs": [
    {
     "name": "stdout",
     "output_type": "stream",
     "text": [
      "x is between 0 and 9\n"
     ]
    }
   ],
   "source": [
    "#Simplify Chained Comparison\n",
    "x = 5\n",
    "if 0 <= x <= 9:\n",
    "    print(\"x is between 0 and 9\")\n",
    "else:\n",
    "    print(\"x is not between 0 and 9\")\n",
    "    "
   ]
  },
  {
   "cell_type": "code",
   "execution_count": 3,
   "metadata": {},
   "outputs": [
    {
     "name": "stdout",
     "output_type": "stream",
     "text": [
      "x is not between 0 and 9\n"
     ]
    }
   ],
   "source": [
    "x = 10\n",
    "if 0 <= x <= 9:\n",
    "    print(\"x is between 0 and 9\")\n",
    "else:\n",
    "    print(\"x is not between 0 and 9\")\n"
   ]
  },
  {
   "cell_type": "code",
   "execution_count": null,
   "metadata": {},
   "outputs": [],
   "source": []
  }
 ],
 "metadata": {
  "kernelspec": {
   "display_name": "Python 3",
   "language": "python",
   "name": "python3"
  },
  "language_info": {
   "codemirror_mode": {
    "name": "ipython",
    "version": 3
   },
   "file_extension": ".py",
   "mimetype": "text/x-python",
   "name": "python",
   "nbconvert_exporter": "python",
   "pygments_lexer": "ipython3",
   "version": "3.6.2"
  }
 },
 "nbformat": 4,
 "nbformat_minor": 2
}
