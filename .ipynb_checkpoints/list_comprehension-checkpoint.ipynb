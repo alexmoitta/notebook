{
 "cells": [
  {
   "cell_type": "code",
   "execution_count": 67,
   "metadata": {},
   "outputs": [
    {
     "data": {
      "text/plain": [
       "'eu e voce estamos aqui'"
      ]
     },
     "execution_count": 67,
     "metadata": {},
     "output_type": "execute_result"
    }
   ],
   "source": [
    "line = \"eu e voce estamos aqui\"\n",
    "\n",
    "line"
   ]
  },
  {
   "cell_type": "code",
   "execution_count": 68,
   "metadata": {},
   "outputs": [
    {
     "data": {
      "text/plain": [
       "['eu', 'e', 'voce', 'estamos', 'aqui']"
      ]
     },
     "execution_count": 68,
     "metadata": {},
     "output_type": "execute_result"
    }
   ],
   "source": [
    "word_list = [str(s) for s in line.split()]\n",
    "word_list\n"
   ]
  },
  {
   "cell_type": "code",
   "execution_count": 69,
   "metadata": {},
   "outputs": [
    {
     "data": {
      "text/plain": [
       "['eu', 'e', 'voce', 'estamos', 'aqui']"
      ]
     },
     "execution_count": 69,
     "metadata": {},
     "output_type": "execute_result"
    }
   ],
   "source": [
    "word_list2 = line.split() # vai acontecer o mesmo que o codigo acima\n",
    "word_list2\n"
   ]
  },
  {
   "cell_type": "code",
   "execution_count": 70,
   "metadata": {},
   "outputs": [
    {
     "data": {
      "text/plain": [
       "['eu', '1', 'e', '2', 'voce', 'estamos', 'aqui']"
      ]
     },
     "execution_count": 70,
     "metadata": {},
     "output_type": "execute_result"
    }
   ],
   "source": [
    "line_with_noise = \"eu 1 e 2 voce # estamos aqui\" \n",
    "word_list3 = [str(s) for s in line_with_noise.split() if s.isalnum()] # o # vai ser removido\n",
    "word_list3"
   ]
  },
  {
   "cell_type": "code",
   "execution_count": 71,
   "metadata": {},
   "outputs": [],
   "source": [
    "#Including a check function during iteration\n",
    "def validate_element(x):\n",
    "  assert (x >= 0)\n",
    "  assert (x <= 10 ** 9)\n",
    "  return True\n"
   ]
  },
  {
   "cell_type": "code",
   "execution_count": 72,
   "metadata": {},
   "outputs": [],
   "source": [
    "correct_input_list = \"1 2 3 4 5 6\"\n",
    "ids_list = [int(t) for t in correct_input_list.split() if validate_element(int(t))]"
   ]
  },
  {
   "cell_type": "code",
   "execution_count": 73,
   "metadata": {},
   "outputs": [
    {
     "data": {
      "text/plain": [
       "[1, 2, 3, 4, 5, 6]"
      ]
     },
     "execution_count": 73,
     "metadata": {},
     "output_type": "execute_result"
    }
   ],
   "source": [
    "ids_list"
   ]
  },
  {
   "cell_type": "code",
   "execution_count": 74,
   "metadata": {},
   "outputs": [],
   "source": [
    "#wrong_input_list = \"1 2 3 4 -5 6\" # FAIL is expected: There is a value which is less than 0\n",
    "#ids_list = [int(t) for t in wrong_input_list.split() if validate_element(int(t))]"
   ]
  },
  {
   "cell_type": "code",
   "execution_count": 75,
   "metadata": {},
   "outputs": [],
   "source": [
    "class ExampleId:\n",
    "    def __init__(self, id):\n",
    "        self.id = id\n",
    "        "
   ]
  },
  {
   "cell_type": "code",
   "execution_count": 76,
   "metadata": {},
   "outputs": [
    {
     "data": {
      "text/plain": [
       "[<__main__.ExampleId at 0x1065e7828>,\n",
       " <__main__.ExampleId at 0x1065e7898>,\n",
       " <__main__.ExampleId at 0x1065e78d0>,\n",
       " <__main__.ExampleId at 0x1065e7908>,\n",
       " <__main__.ExampleId at 0x1065e7940>,\n",
       " <__main__.ExampleId at 0x1065e7978>]"
      ]
     },
     "execution_count": 76,
     "metadata": {},
     "output_type": "execute_result"
    }
   ],
   "source": [
    "correct_input_list = \"1 2 3 4 5 6\"\n",
    "ids_object_list = [ExampleId(id) for id in correct_input_list.split() if validate_element(int(id)) ]\n",
    "ids_object_list"
   ]
  },
  {
   "cell_type": "code",
   "execution_count": 77,
   "metadata": {},
   "outputs": [
    {
     "data": {
      "text/plain": [
       "'1'"
      ]
     },
     "execution_count": 77,
     "metadata": {},
     "output_type": "execute_result"
    }
   ],
   "source": [
    "ids_object_list[0].id"
   ]
  },
  {
   "cell_type": "code",
   "execution_count": null,
   "metadata": {},
   "outputs": [],
   "source": []
  }
 ],
 "metadata": {
  "kernelspec": {
   "display_name": "Python 3",
   "language": "python",
   "name": "python3"
  },
  "language_info": {
   "codemirror_mode": {
    "name": "ipython",
    "version": 3
   },
   "file_extension": ".py",
   "mimetype": "text/x-python",
   "name": "python",
   "nbconvert_exporter": "python",
   "pygments_lexer": "ipython3",
   "version": "3.6.2"
  }
 },
 "nbformat": 4,
 "nbformat_minor": 2
}
