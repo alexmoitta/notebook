{
 "cells": [
  {
   "cell_type": "code",
   "execution_count": 14,
   "metadata": {},
   "outputs": [
    {
     "name": "stdout",
     "output_type": "stream",
     "text": [
      "a-b-c\n"
     ]
    }
   ],
   "source": [
    "s = \"-\"\n",
    "seq = (\"a\", \"b\", \"c\") # This is sequence of strings.\n",
    "join_string = s.join( seq )\n",
    "print (join_string)\n"
   ]
  },
  {
   "cell_type": "code",
   "execution_count": 15,
   "metadata": {},
   "outputs": [
    {
     "name": "stdout",
     "output_type": "stream",
     "text": [
      "Alexandre dos Santos\n"
     ]
    }
   ],
   "source": [
    "s = \" \" #just a simple space\n",
    "seq = (\"Alexandre\", \"dos\", \"Santos\") # This is sequence of strings.\n",
    "join_string = s.join( seq )\n",
    "print (join_string)\n"
   ]
  }
 ],
 "metadata": {
  "kernelspec": {
   "display_name": "Python 3",
   "language": "python",
   "name": "python3"
  },
  "language_info": {
   "codemirror_mode": {
    "name": "ipython",
    "version": 3
   },
   "file_extension": ".py",
   "mimetype": "text/x-python",
   "name": "python",
   "nbconvert_exporter": "python",
   "pygments_lexer": "ipython3",
   "version": "3.6.2"
  }
 },
 "nbformat": 4,
 "nbformat_minor": 2
}
